{
 "cells": [
  {
   "cell_type": "code",
   "execution_count": null,
   "metadata": {
    "collapsed": false
   },
   "outputs": [],
   "source": [
    "import py_entitymatching as em\n",
    "import py_stringmatching as sm\n",
    "import py_stringsimjoin as ssj\n",
    "from PyQt4 import QtGui"
   ]
  },
  {
   "cell_type": "code",
   "execution_count": null,
   "metadata": {
    "collapsed": false
   },
   "outputs": [],
   "source": [
    "filepath_A = \"./TableA.csv\"\n",
    "filepath_B = \"./TableB.csv\"\n",
    "filepath_C = \"./TableC.csv\"\n",
    "filepath_E = \"./TableE.csv\"\n",
    "filepath_F = \"./TableF.csv\"\n",
    "filepath_G = \"./TableG.csv\"\n",
    "# read table A; table A has 'ID' as the key attribute\n",
    "A = em.read_csv_metadata(filepath_A, key='ID')\n",
    "# read table B; table B has 'ID' as the key attribute\n",
    "B = em.read_csv_metadata(filepath_B, key='ID')\n",
    "# read table C;\n",
    "C = em.read_csv_metadata(filepath_C, ltable=A, rtable=B)\n",
    "E = em.read_csv_metadata(filepath_E, key='ID')\n",
    "# read table B; table B has 'ID' as the key attribute\n",
    "F = em.read_csv_metadata(filepath_F, key='ID')\n",
    "G = em.read_csv_metadata(filepath_G, ltable=A, rtable=B)\n",
    "# read table E; table E has 'ID' as the key attribute"
   ]
  },
  {
   "cell_type": "code",
   "execution_count": null,
   "metadata": {
    "collapsed": false
   },
   "outputs": [],
   "source": [
    "G.head(7)"
   ]
  },
  {
   "cell_type": "code",
   "execution_count": null,
   "metadata": {
    "collapsed": false
   },
   "outputs": [],
   "source": [
    "matching_features = em.get_features_for_matching(E, F)"
   ]
  },
  {
   "cell_type": "code",
   "execution_count": null,
   "metadata": {
    "collapsed": false
   },
   "outputs": [],
   "source": [
    "matching_features"
   ]
  },
  {
   "cell_type": "code",
   "execution_count": null,
   "metadata": {
    "collapsed": false
   },
   "outputs": [],
   "source": [
    "director_features = matching_features[20:27]\n",
    "director_features"
   ]
  },
  {
   "cell_type": "code",
   "execution_count": null,
   "metadata": {
    "collapsed": false
   },
   "outputs": [],
   "source": [
    "H = em.extract_feature_vecs(G, feature_table=director_features, attrs_after='Match')\n",
    "H.head(10)"
   ]
  },
  {
   "cell_type": "code",
   "execution_count": null,
   "metadata": {
    "collapsed": false
   },
   "outputs": [],
   "source": [
    "# Splitting H into training (I) and test (J)\n",
    "IJ = em.split_train_test(H, train_proportion=0.666)\n",
    "I = IJ['train']\n",
    "J = IJ['test']"
   ]
  },
  {
   "cell_type": "code",
   "execution_count": null,
   "metadata": {
    "collapsed": true
   },
   "outputs": [],
   "source": [
    "naive_bayes_matcher = em.NBMatcher(name='Naive_Bayes')\n",
    "linear_reg_matcher = em.LinRegMatcher(name='Linear_Regression')\n",
    "logistic_reg_matcher = em.LogRegMatcher(name='Logistic_Regression')\n",
    "decision_tree_matcher = em.DTMatcher(name='Decision_Tree', random_state=0)\n",
    "random_forest_matcher = em.RFMatcher(name='Random_Forest', random_state=0)\n",
    "svm_matcher = em.SVMMatcher(name='Support_Vector_Machine')\n",
    "matchers = [naive_bayes_matcher, linear_reg_matcher, logistic_reg_matcher, decision_tree_matcher,\n",
    "                            random_forest_matcher, svm_matcher]\n",
    "attributes_to_be_excluded = ['_id', 'ltable_ID', 'rtable_ID', 'Match']"
   ]
  },
  {
   "cell_type": "code",
   "execution_count": null,
   "metadata": {
    "collapsed": false
   },
   "outputs": [],
   "source": [
    "K_precision = em.select_matcher(matchers, table=I, exclude_attrs=attributes_to_be_excluded,target_attr='Match', \n",
    "                          metric='precision', k= 5, random_state=0)\n",
    "K_recall = em.select_matcher(matchers, table=I, exclude_attrs=attributes_to_be_excluded,target_attr='Match', \n",
    "                          metric='recall', k= 5, random_state=0)\n",
    "K_f1 = em.select_matcher(matchers, table=I, exclude_attrs=attributes_to_be_excluded,target_attr='Match', \n",
    "                          metric='f1', k= 5, random_state=0)"
   ]
  },
  {
   "cell_type": "code",
   "execution_count": null,
   "metadata": {
    "collapsed": false,
    "scrolled": false
   },
   "outputs": [],
   "source": [
    "K_precision['cv_stats']"
   ]
  },
  {
   "cell_type": "code",
   "execution_count": null,
   "metadata": {
    "collapsed": false
   },
   "outputs": [],
   "source": [
    "K_recall['cv_stats']"
   ]
  },
  {
   "cell_type": "code",
   "execution_count": null,
   "metadata": {
    "collapsed": false
   },
   "outputs": [],
   "source": [
    "K_f1['cv_stats']"
   ]
  },
  {
   "cell_type": "code",
   "execution_count": null,
   "metadata": {
    "collapsed": false
   },
   "outputs": [],
   "source": [
    "K_precision['selected_matcher']"
   ]
  },
  {
   "cell_type": "code",
   "execution_count": null,
   "metadata": {
    "collapsed": false
   },
   "outputs": [],
   "source": [
    "K_recall['selected_matcher']"
   ]
  },
  {
   "cell_type": "code",
   "execution_count": null,
   "metadata": {
    "collapsed": false
   },
   "outputs": [],
   "source": [
    "K_f1['selected_matcher']"
   ]
  },
  {
   "cell_type": "code",
   "execution_count": null,
   "metadata": {
    "collapsed": true
   },
   "outputs": [],
   "source": [
    "L = em.select_matcher(matchers, table=I, exclude_attrs=attributes_to_be_excluded,target_attr='Match',\n",
    "                      metric='precision', k= 10, random_state=0)"
   ]
  },
  {
   "cell_type": "code",
   "execution_count": null,
   "metadata": {
    "collapsed": false
   },
   "outputs": [],
   "source": [
    "L['cv_stats']"
   ]
  },
  {
   "cell_type": "code",
   "execution_count": null,
   "metadata": {
    "collapsed": false
   },
   "outputs": [],
   "source": [
    "L['selected_matcher']"
   ]
  },
  {
   "cell_type": "code",
   "execution_count": null,
   "metadata": {
    "collapsed": true
   },
   "outputs": [],
   "source": [
    "M = em.select_matcher(matchers, table=I, exclude_attrs=attributes_to_be_excluded,target_attr='Match'\n",
    "                      , metric='precision', k= 20, random_state=0)"
   ]
  },
  {
   "cell_type": "code",
   "execution_count": null,
   "metadata": {
    "collapsed": false
   },
   "outputs": [],
   "source": [
    "M['cv_stats']"
   ]
  },
  {
   "cell_type": "code",
   "execution_count": null,
   "metadata": {
    "collapsed": false
   },
   "outputs": [],
   "source": [
    "M['selected_matcher']"
   ]
  },
  {
   "cell_type": "code",
   "execution_count": null,
   "metadata": {
    "collapsed": false
   },
   "outputs": [],
   "source": [
    "N = em.select_matcher(matchers, table=I, exclude_attrs=attributes_to_be_excluded,target_attr='Match',\n",
    "                      metric='precision', k= 50, random_state=0)"
   ]
  },
  {
   "cell_type": "code",
   "execution_count": null,
   "metadata": {
    "collapsed": false
   },
   "outputs": [],
   "source": [
    "N['cv_stats']"
   ]
  },
  {
   "cell_type": "code",
   "execution_count": null,
   "metadata": {
    "collapsed": false
   },
   "outputs": [],
   "source": [
    "N['selected_matcher']"
   ]
  },
  {
   "cell_type": "code",
   "execution_count": null,
   "metadata": {
    "collapsed": false
   },
   "outputs": [],
   "source": [
    "UV = em.split_train_test(I, train_proportion=0.6, random_state=0)\n",
    "U = UV['train']\n",
    "V = UV['test']\n",
    "for matcher in matchers:\n",
    "    matcher.fit(table=U, exclude_attrs=attributes_to_be_excluded, target_attr='Match')\n",
    "    P = matcher.predict(table=V, exclude_attrs=attributes_to_be_excluded, append=True, \n",
    "                        target_attr='Predicted_Value', inplace=False)\n",
    "    predicted_result = em.eval_matches(P, 'Match', 'Predicted_Value')\n",
    "    print \"\\n\", \" -------------------- [DEBUGGING]\", matcher.name, \" -------------------- \"\n",
    "    em.print_eval_summary(predicted_result)\n",
    "    matcher.fit(table=I, exclude_attrs=attributes_to_be_excluded, target_attr='Match')\n",
    "    P = matcher.predict(table=J, exclude_attrs=attributes_to_be_excluded, append=True, \n",
    "                        target_attr='Predicted_Value', inplace=False)\n",
    "    predicted_result = em.eval_matches(P, 'Match', 'Predicted_Value')\n",
    "    print \"\\n\", \" --------------------[CROSS-VALIDATION]\", matcher.name, \" -------------------- \"\n",
    "    em.print_eval_summary(predicted_result)"
   ]
  },
  {
   "cell_type": "code",
   "execution_count": null,
   "metadata": {
    "collapsed": false
   },
   "outputs": [],
   "source": [
    "#Debugging\n",
    "#em.vis_debug_dt(decision_tree_matcher, U, V, exclude_attrs=attributes_to_be_excluded, target_attr='Match')"
   ]
  },
  {
   "cell_type": "code",
   "execution_count": null,
   "metadata": {
    "collapsed": false
   },
   "outputs": [],
   "source": [
    "\n",
    "for matcher in matchers:\n",
    "    matcher.fit(table=I, exclude_attrs=attributes_to_be_excluded, target_attr='Match')\n",
    "    P = matcher.predict(table=J, exclude_attrs=attributes_to_be_excluded, append=True, \n",
    "                        target_attr='Predicted_Value', inplace=False)\n",
    "    predicted_result = em.eval_matches(P, 'Match', 'Predicted_Value')\n",
    "    print \"\\n\", \" -------------------- \", matcher.name, \" -------------------- \"\n",
    "    em.print_eval_summary(predicted_result)"
   ]
  },
  {
   "cell_type": "code",
   "execution_count": null,
   "metadata": {
    "collapsed": true
   },
   "outputs": [],
   "source": []
  }
 ],
 "metadata": {
  "anaconda-cloud": {},
  "kernelspec": {
   "display_name": "Python [conda root]",
   "language": "python",
   "name": "conda-root-py"
  },
  "language_info": {
   "codemirror_mode": {
    "name": "ipython",
    "version": 2
   },
   "file_extension": ".py",
   "mimetype": "text/x-python",
   "name": "python",
   "nbconvert_exporter": "python",
   "pygments_lexer": "ipython2",
   "version": "2.7.12"
  }
 },
 "nbformat": 4,
 "nbformat_minor": 1
}
